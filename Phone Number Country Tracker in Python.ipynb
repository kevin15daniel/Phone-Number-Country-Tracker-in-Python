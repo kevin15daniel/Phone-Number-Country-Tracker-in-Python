{
  "nbformat": 4,
  "nbformat_minor": 0,
  "metadata": {
    "colab": {
      "provenance": []
    },
    "kernelspec": {
      "name": "python3",
      "display_name": "Python 3"
    },
    "language_info": {
      "name": "python"
    }
  },
  "cells": [
    {
      "cell_type": "code",
      "source": [
        "pip install phonenumbers"
      ],
      "metadata": {
        "id": "uqlAEaqdS1pS"
      },
      "execution_count": null,
      "outputs": []
    },
    {
      "cell_type": "code",
      "source": [
        "import phonenumbers\n",
        "from phonenumbers import geocoder, parse\n",
        "\n",
        "phone_number1 = parse(\"+1 (623) 450-4918\")\n",
        "phone_number2 = parse(\"+1 (562) 715-6549\")\n",
        "phone_number3 = parse(\"+1 (239) 436-6271\")\n",
        "\n",
        "print(\"Phone Numbers Location:\")\n",
        "print(geocoder.description_for_number(phone_number1, \"en\"))\n",
        "print(geocoder.description_for_number(phone_number2, \"en\"))\n",
        "print(geocoder.description_for_number(phone_number3, \"en\"))"
      ],
      "metadata": {
        "id": "nDNBpSu0TMHA"
      },
      "execution_count": null,
      "outputs": []
    }
  ]
}